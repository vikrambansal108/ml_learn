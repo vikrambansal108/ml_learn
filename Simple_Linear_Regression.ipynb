{
  "nbformat": 4,
  "nbformat_minor": 0,
  "metadata": {
    "colab": {
      "name": "Simple_Linear_Regression.ipynb",
      "provenance": []
    },
    "kernelspec": {
      "name": "python3",
      "display_name": "Python 3"
    },
    "language_info": {
      "name": "python"
    }
  },
  "cells": [
    {
      "cell_type": "markdown",
      "metadata": {
        "id": "sXVsbw3GQ7MH"
      },
      "source": [
        "#Simple Linear Regression"
      ]
    },
    {
      "cell_type": "markdown",
      "metadata": {
        "id": "AxeOLL28Tycg"
      },
      "source": [
        "**Problem statement:**\n",
        "\n",
        "Is there any association between seed yield per plant and height of that plant"
      ]
    },
    {
      "cell_type": "code",
      "metadata": {
        "id": "T7DsBFK-EYL7"
      },
      "source": [
        "#Import Required Libraries\n",
        "\n",
        "import pandas as pd\n",
        "import numpy as np\n",
        "import matplotlib.pyplot as plt\n",
        "import seaborn as sn\n"
      ],
      "execution_count": null,
      "outputs": []
    },
    {
      "cell_type": "markdown",
      "metadata": {
        "id": "z2DTt_XrGcKx"
      },
      "source": [
        "Data Discription\n",
        "\n",
        "seed yield per plant in g - seeds weight in gm- Independent Variable\n",
        "\n",
        "Plant height                                  -                           dependent variable"
      ]
    },
    {
      "cell_type": "code",
      "metadata": {
        "id": "RIG6NXytH3nr"
      },
      "source": [
        ""
      ],
      "execution_count": null,
      "outputs": []
    },
    {
      "cell_type": "code",
      "metadata": {
        "colab": {
          "base_uri": "https://localhost:8080/",
          "height": 204
        },
        "id": "bkeTFYl4G9f7",
        "outputId": "87fabb2b-bbf7-477b-d5a8-e16422c1d498"
      },
      "source": [
        "df=pd.read_excel('/content/sample_data/crop_height.xlsx',)\n",
        "df.head()"
      ],
      "execution_count": null,
      "outputs": [
        {
          "output_type": "execute_result",
          "data": {
            "text/html": [
              "<div>\n",
              "<style scoped>\n",
              "    .dataframe tbody tr th:only-of-type {\n",
              "        vertical-align: middle;\n",
              "    }\n",
              "\n",
              "    .dataframe tbody tr th {\n",
              "        vertical-align: top;\n",
              "    }\n",
              "\n",
              "    .dataframe thead th {\n",
              "        text-align: right;\n",
              "    }\n",
              "</style>\n",
              "<table border=\"1\" class=\"dataframe\">\n",
              "  <thead>\n",
              "    <tr style=\"text-align: right;\">\n",
              "      <th></th>\n",
              "      <th>Seed yield per plant in g</th>\n",
              "      <th>Plant Height in cm</th>\n",
              "    </tr>\n",
              "  </thead>\n",
              "  <tbody>\n",
              "    <tr>\n",
              "      <th>0</th>\n",
              "      <td>5.22</td>\n",
              "      <td>94.2</td>\n",
              "    </tr>\n",
              "    <tr>\n",
              "      <th>1</th>\n",
              "      <td>8.13</td>\n",
              "      <td>69.3</td>\n",
              "    </tr>\n",
              "    <tr>\n",
              "      <th>2</th>\n",
              "      <td>6.12</td>\n",
              "      <td>115.3</td>\n",
              "    </tr>\n",
              "    <tr>\n",
              "      <th>3</th>\n",
              "      <td>4.16</td>\n",
              "      <td>83.3</td>\n",
              "    </tr>\n",
              "    <tr>\n",
              "      <th>4</th>\n",
              "      <td>8.98</td>\n",
              "      <td>85.4</td>\n",
              "    </tr>\n",
              "  </tbody>\n",
              "</table>\n",
              "</div>"
            ],
            "text/plain": [
              "   Seed yield per plant in g  Plant Height in cm\n",
              "0                       5.22                94.2\n",
              "1                       8.13                69.3\n",
              "2                       6.12               115.3\n",
              "3                       4.16                83.3\n",
              "4                       8.98                85.4"
            ]
          },
          "metadata": {
            "tags": []
          },
          "execution_count": 2
        }
      ]
    },
    {
      "cell_type": "code",
      "metadata": {
        "colab": {
          "base_uri": "https://localhost:8080/"
        },
        "id": "GfogSieTH4Ug",
        "outputId": "edb70d11-a4a3-45f7-abe1-dd96644e934f"
      },
      "source": [
        "df.shape\n"
      ],
      "execution_count": null,
      "outputs": [
        {
          "output_type": "execute_result",
          "data": {
            "text/plain": [
              "(23, 2)"
            ]
          },
          "metadata": {
            "tags": []
          },
          "execution_count": 5
        }
      ]
    },
    {
      "cell_type": "code",
      "metadata": {
        "colab": {
          "base_uri": "https://localhost:8080/"
        },
        "id": "UIHspEn5H-sU",
        "outputId": "1b37d14f-a445-4982-ecb8-fcc82276c699"
      },
      "source": [
        "df.info()"
      ],
      "execution_count": null,
      "outputs": [
        {
          "output_type": "stream",
          "text": [
            "<class 'pandas.core.frame.DataFrame'>\n",
            "RangeIndex: 23 entries, 0 to 22\n",
            "Data columns (total 2 columns):\n",
            " #   Column                     Non-Null Count  Dtype  \n",
            "---  ------                     --------------  -----  \n",
            " 0   Seed yield per plant in g  23 non-null     float64\n",
            " 1   Plant Height in cm         23 non-null     float64\n",
            "dtypes: float64(2)\n",
            "memory usage: 496.0 bytes\n"
          ],
          "name": "stdout"
        }
      ]
    },
    {
      "cell_type": "code",
      "metadata": {
        "id": "x0dil0TKLD7H"
      },
      "source": [
        "X = df.iloc[:, :-1].values\n",
        "y = df.iloc[:, -1].values"
      ],
      "execution_count": null,
      "outputs": []
    },
    {
      "cell_type": "code",
      "metadata": {
        "colab": {
          "base_uri": "https://localhost:8080/"
        },
        "id": "qvn3xhSn4zye",
        "outputId": "fbc42928-ca28-404c-eb23-a531eaeb47df"
      },
      "source": [
        ""
      ],
      "execution_count": null,
      "outputs": [
        {
          "output_type": "execute_result",
          "data": {
            "text/plain": [
              "array([[ 5.22],\n",
              "       [ 8.13],\n",
              "       [ 6.12],\n",
              "       [ 4.16],\n",
              "       [ 8.98],\n",
              "       [ 3.05],\n",
              "       [ 3.49],\n",
              "       [ 5.4 ],\n",
              "       [ 2.39],\n",
              "       [ 2.71],\n",
              "       [ 3.97],\n",
              "       [ 7.56],\n",
              "       [ 5.17],\n",
              "       [ 7.22],\n",
              "       [10.08],\n",
              "       [ 6.2 ],\n",
              "       [ 8.39],\n",
              "       [ 4.08],\n",
              "       [ 6.9 ],\n",
              "       [ 6.05],\n",
              "       [ 2.87],\n",
              "       [ 7.61],\n",
              "       [ 7.06]])"
            ]
          },
          "metadata": {
            "tags": []
          },
          "execution_count": 4
        }
      ]
    },
    {
      "cell_type": "code",
      "metadata": {
        "id": "X37-zKqJJwrv"
      },
      "source": [
        "from sklearn.model_selection import train_test_split\n",
        "\n",
        "X_train, X_test, y_train, y_test = train_test_split(X, y, test_size = 1/3, random_state = 0)"
      ],
      "execution_count": null,
      "outputs": []
    },
    {
      "cell_type": "code",
      "metadata": {
        "id": "GpnduDeqOHkG",
        "colab": {
          "base_uri": "https://localhost:8080/"
        },
        "outputId": "488bf6cd-92b5-4440-cde7-6d07f9cf2606"
      },
      "source": [
        "# x_train= X_train.reshape(-1, 1)\n",
        "# y_train= y_train.reshape(-1, 1)\n",
        "# x_test = X_test.reshape(-1, 1)\n",
        "X_train"
      ],
      "execution_count": null,
      "outputs": [
        {
          "output_type": "execute_result",
          "data": {
            "text/plain": [
              "array([[8.39],\n",
              "       [2.39],\n",
              "       [3.49],\n",
              "       [4.08],\n",
              "       [8.98],\n",
              "       [6.12],\n",
              "       [3.05],\n",
              "       [6.9 ],\n",
              "       [2.71],\n",
              "       [5.4 ],\n",
              "       [6.05],\n",
              "       [4.16],\n",
              "       [5.22],\n",
              "       [6.2 ],\n",
              "       [5.17]])"
            ]
          },
          "metadata": {
            "tags": []
          },
          "execution_count": 5
        }
      ]
    },
    {
      "cell_type": "markdown",
      "metadata": {
        "id": "-NEltUYbHG6V"
      },
      "source": [
        "##Understanding a regression problem:\n",
        "Regression belongs to the class of Supervised Learning tasks where the datasets that are used for predictive/statistical modeling contain continuous labels. But, let's define a regression problem more mathematically.\n",
        "\n",
        "Let's consider the following image below:\n",
        "\n",
        "![12.png](data:image/png;base64,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)"
      ]
    },
    {
      "cell_type": "markdown",
      "metadata": {
        "id": "olSJFMjXH9cG"
      },
      "source": [
        "So, in the above image, X is the set of values that correspond to the living areas of various houses (also considered as the space of input values) and y is the price of the respective houses but note that these values are predicted by h. h is the function that maps the X values to y (often called as predictor). For historical reasons, this h is referred to as a hypothesis function\n",
        "\n",
        "**Linear Regression - how it works?**\n",
        "\n",
        "To perform regression, you must decide the way you are going to represent h. As an initial choice, let’s say you decide to approximate y as a linear function of x:\n",
        "\n",
        "hθ(x) = θ0 + θ1x1 + θ2x2\n",
        "\n",
        "Here, the θi’s are the parameters (also called weights) parameterizing the space of linear functions mapping from X to Y. In a simpler sense, these parameters are used for accurately mapping X to Y\n",
        "\n",
        "You can reffer below link for better understanding.\n",
        "\n",
        "[Linear Regression essential](https://www.datacamp.com/community/tutorials/essentials-linear-regression-python)\n",
        "\n",
        "[Machine learning -regression](https://www.youtube.com/watch?v=8jazNUpO3lQ)"
      ]
    },
    {
      "cell_type": "code",
      "metadata": {
        "id": "-b0A6CS55O7Q"
      },
      "source": [
        ""
      ],
      "execution_count": null,
      "outputs": []
    },
    {
      "cell_type": "code",
      "metadata": {
        "colab": {
          "base_uri": "https://localhost:8080/"
        },
        "id": "gpvwnOEL5JB7",
        "outputId": "02403aea-ee52-42ac-9978-30ce1194feee"
      },
      "source": [
        "from sklearn.linear_model import LinearRegression\n",
        "regressor = LinearRegression()\n",
        "regressor.fit(X_train, y_train)"
      ],
      "execution_count": null,
      "outputs": [
        {
          "output_type": "execute_result",
          "data": {
            "text/plain": [
              "LinearRegression(copy_X=True, fit_intercept=True, n_jobs=None, normalize=False)"
            ]
          },
          "metadata": {
            "tags": []
          },
          "execution_count": 6
        }
      ]
    },
    {
      "cell_type": "code",
      "metadata": {
        "colab": {
          "base_uri": "https://localhost:8080/",
          "height": 295
        },
        "id": "MCYowMCD5I00",
        "outputId": "14e679d9-334e-4945-ee88-fd87f42251e4"
      },
      "source": [
        "plt.scatter(X_train, y_train, color = 'red')\n",
        "plt.plot(X_train, regressor.predict(X_train), color = 'blue')\n",
        "plt.title('Salary vs Experience (Training set)')\n",
        "plt.xlabel('Years of Experience')\n",
        "plt.ylabel('Salary')\n",
        "plt.show()"
      ],
      "execution_count": null,
      "outputs": [
        {
          "output_type": "display_data",
          "data": {
            "image/png": "[encoded data removed]",
            "text/plain": [
              "<Figure size 432x288 with 1 Axes>"
            ]
          },
          "metadata": {
            "tags": [],
            "needs_background": "light"
          }
        }
      ]
    },
    {
      "cell_type": "markdown",
      "metadata": {
        "id": "D2hWxc-hJfV2"
      },
      "source": [
        "###Feature Scaling:\n",
        "Feature scaling is a method used to normalize the range of independent variables or features of data. In data processing, it is also known as data normalization and is generally performed during the data preprocessing step.\n",
        "\n",
        "Since the range of values of raw data varies widely, in some machine learning algorithms, objective functions will not work properly without normalization. For example, many classifiers calculate the distance between two points by the Euclidean distance. If one of the features has a broad range of values, the distance will be governed by this particular feature. Therefore, the range of all features should be normalized so that each feature contributes approximately proportionately to the final distance.\n",
        "\n",
        "Another reason why feature scaling is applied is that gradient descent converges much faster with feature scaling than without it.\n",
        "\n",
        "It's also important to apply feature scaling if regularization is used as part of the loss function (so that coefficients are penalized appropriately).\n",
        "\n",
        "**Methods**\n",
        "\n",
        "Rescaling (min-max normalization):\n",
        "\n",
        "Also known as min-max scaling or min-max normalization, is the simplest method and consists in rescaling the range of features to scale the range in [0, 1] or [−1, 1]. Selecting the target range depends on the nature of the data.\n",
        "\n",
        "Standardization (Z-score Normalization):\n",
        "\n",
        "\n",
        "\n"
      ]
    },
    {
      "cell_type": "code",
      "metadata": {
        "id": "j8WWMy--LewY"
      },
      "source": [
        "from sklearn.preprocessing import StandardScaler\n",
        "scaler = StandardScaler()\n",
        "y_train_scaled=scaler.fit_transform(y_train.reshape(-1,1))\n",
        "y_test_scaled=scaler.transform(y_train.reshape(-1,1))\n",
        "X_train_scaled = scaler.fit_transform(X_train)\n",
        "X_test_scaled=scaler.transform(X_test)"
      ],
      "execution_count": null,
      "outputs": []
    },
    {
      "cell_type": "code",
      "metadata": {
        "id": "Sd4m22mvLMpP"
      },
      "source": [
        "y_pred = regressor.predict(X_test)"
      ],
      "execution_count": null,
      "outputs": []
    },
    {
      "cell_type": "code",
      "metadata": {
        "colab": {
          "base_uri": "https://localhost:8080/"
        },
        "id": "SxKjVVnUME7J",
        "outputId": "0f4991e0-4bf1-4801-a613-f24082078012"
      },
      "source": [
        "y1=regressor.predict([[17.23]])\n",
        "y1"
      ],
      "execution_count": null,
      "outputs": [
        {
          "output_type": "execute_result",
          "data": {
            "text/plain": [
              "array([124.34070957])"
            ]
          },
          "metadata": {
            "tags": []
          },
          "execution_count": 14
        }
      ]
    },
    {
      "cell_type": "code",
      "metadata": {
        "colab": {
          "base_uri": "https://localhost:8080/",
          "height": 295
        },
        "id": "j2cWW90oLxgn",
        "outputId": "52541e09-9ebf-4971-f399-1940b0544db8"
      },
      "source": [
        "plt.scatter(X_test, y_test, color = 'red')\n",
        "plt.plot(X_train, regressor.predict(X_train), color = 'blue')\n",
        "plt.title('Salary vs Experience (Test set)')\n",
        "plt.xlabel('Years of Experience')\n",
        "plt.ylabel('Salary')\n",
        "plt.show()"
      ],
      "execution_count": null,
      "outputs": [
        {
          "output_type": "display_data",
          "data": {
            "image/png": "[encoded data removed]",
            "text/plain": [
              "<Figure size 432x288 with 1 Axes>"
            ]
          },
          "metadata": {
            "tags": [],
            "needs_background": "light"
          }
        }
      ]
    },
    {
      "cell_type": "markdown",
      "metadata": {
        "id": "7z00Ur-oLj57"
      },
      "source": [
        "###Model performance metrics:\n",
        "In regression model, the most commonly known evaluation metrics include:\n",
        "\n",
        "**R-squared (R2)**, which is the proportion of variation in the outcome that is explained by the predictor variables. In multiple regression models, R2 corresponds to the squared correlation between the observed outcome values and the predicted values by the model. The Higher the R-squared, the better the model.\n",
        "\n",
        "**Root Mean Squared Error (RMSE)**, which measures the average error performed by the model in predicting the outcome for an observation. Mathematically, the RMSE is the square root of the mean squared error (MSE), which is the average squared difference between the observed actual outome values and the values predicted by the model. So, MSE = mean((observeds - predicteds)^2) and RMSE = sqrt(MSE). The lower the RMSE, the better the model.\n",
        "\n",
        "**Residual Standard Error (RSE)**, also known as the model sigma, is a variant of the RMSE adjusted for the number of predictors in the model. The lower the RSE, the better the model. In practice, the difference between RMSE and RSE is very small, particularly for large multivariate data.\n",
        "\n",
        "**Mean Absolute Error (MAE)**, like the RMSE, the MAE measures the prediction error. Mathematically, it is the average absolute difference between observed and predicted outcomes, MAE = mean(abs(observeds - predicteds)). MAE is less sensitive to outliers compared to RMSE."
      ]
    },
    {
      "cell_type": "code",
      "metadata": {
        "colab": {
          "base_uri": "https://localhost:8080/"
        },
        "id": "K41p8H0jM1V6",
        "outputId": "4515ccde-5ea1-4743-9859-98279ce32e58"
      },
      "source": [
        "from sklearn.metrics import  r2_score,mean_squared_error,mean_absolute_error\n",
        "r2_score(y_pred,y_test)\n",
        "MSE=mean_squared_error(y_pred,y_test)\n",
        "MAE=mean_absolute_error(y_pred,y_test)\n",
        "\n",
        "print('The value of R-squared Error is {}:'.format(r2_score(y_test,y_pred)))\n",
        "print('The value of Mean_Squared Error is {}:'.format(MSE))\n",
        "print('The value of Mean_Absolute Error is {}:'.format(MAE))"
      ],
      "execution_count": null,
      "outputs": [
        {
          "output_type": "stream",
          "text": [
            "The value of R-squared Error is -4.382798464984934:\n",
            "The value of Mean_Squared Error is 126.92302355530413:\n",
            "The value of Mean_Absolute Error is 10.235318783091026:\n"
          ],
          "name": "stdout"
        }
      ]
    },
    {
      "cell_type": "markdown",
      "metadata": {
        "id": "rAPOayTrQWAI"
      },
      "source": [
        "Can you Interpret what above metrics are showing?\n",
        "\n",
        "please refer below link and think about it\n",
        "\n",
        "[sklearn regression metrics](https://scikit-learn.org/stable/modules/generated/sklearn.metrics.r2_score.html)"
      ]
    },
    {
      "cell_type": "code",
      "metadata": {
        "colab": {
          "base_uri": "https://localhost:8080/"
        },
        "id": "vdOk9Nm5IDsu",
        "outputId": "aa936b8f-756c-4f8c-c3d3-b6bb97cfb4d3"
      },
      "source": [
        "import statsmodels.api as sm"
      ],
      "execution_count": null,
      "outputs": [
        {
          "output_type": "stream",
          "text": [
            "/usr/local/lib/python3.7/dist-packages/statsmodels/tools/_testing.py:19: FutureWarning: pandas.util.testing is deprecated. Use the functions in the public API at pandas.testing instead.\n",
            "  import pandas.util.testing as tm\n"
          ],
          "name": "stderr"
        }
      ]
    },
    {
      "cell_type": "code",
      "metadata": {
        "colab": {
          "base_uri": "https://localhost:8080/",
          "height": 423
        },
        "id": "5Ccr0QMEIpzO",
        "outputId": "f7b978a5-9aa9-416d-885e-9515aeeba48c"
      },
      "source": [
        "X = df[\"Seed yield per plant in g\"]\n",
        "y = df[\"Plant Height in cm\"]\n",
        "\n",
        "# Fit and make the predictions by the model\n",
        "model = sm.OLS(y, X).fit()\n",
        "predictions = model.predict(X)\n",
        "\n",
        "# Print out the statistics\n",
        "model.summary()"
      ],
      "execution_count": null,
      "outputs": [
        {
          "output_type": "execute_result",
          "data": {
            "text/html": [
              "<table class=\"simpletable\">\n",
              "<caption>OLS Regression Results</caption>\n",
              "<tr>\n",
              "  <th>Dep. Variable:</th>    <td>Plant Height in cm</td> <th>  R-squared (uncentered):</th>      <td>   0.886</td>\n",
              "</tr>\n",
              "<tr>\n",
              "  <th>Model:</th>                    <td>OLS</td>        <th>  Adj. R-squared (uncentered):</th> <td>   0.881</td>\n",
              "</tr>\n",
              "<tr>\n",
              "  <th>Method:</th>              <td>Least Squares</td>   <th>  F-statistic:       </th>          <td>   171.2</td>\n",
              "</tr>\n",
              "<tr>\n",
              "  <th>Date:</th>              <td>Mon, 31 May 2021</td>  <th>  Prob (F-statistic):</th>          <td>7.44e-12</td>\n",
              "</tr>\n",
              "<tr>\n",
              "  <th>Time:</th>                  <td>11:16:16</td>      <th>  Log-Likelihood:    </th>          <td> -108.50</td>\n",
              "</tr>\n",
              "<tr>\n",
              "  <th>No. Observations:</th>       <td>    23</td>       <th>  AIC:               </th>          <td>   219.0</td>\n",
              "</tr>\n",
              "<tr>\n",
              "  <th>Df Residuals:</th>           <td>    22</td>       <th>  BIC:               </th>          <td>   220.1</td>\n",
              "</tr>\n",
              "<tr>\n",
              "  <th>Df Model:</th>               <td>     1</td>       <th>                     </th>              <td> </td>   \n",
              "</tr>\n",
              "<tr>\n",
              "  <th>Covariance Type:</th>       <td>nonrobust</td>     <th>                     </th>              <td> </td>   \n",
              "</tr>\n",
              "</table>\n",
              "<table class=\"simpletable\">\n",
              "<tr>\n",
              "              <td></td>                 <th>coef</th>     <th>std err</th>      <th>t</th>      <th>P>|t|</th>  <th>[0.025</th>    <th>0.975]</th>  \n",
              "</tr>\n",
              "<tr>\n",
              "  <th>Seed yield per plant in g</th> <td>   12.2649</td> <td>    0.937</td> <td>   13.083</td> <td> 0.000</td> <td>   10.321</td> <td>   14.209</td>\n",
              "</tr>\n",
              "</table>\n",
              "<table class=\"simpletable\">\n",
              "<tr>\n",
              "  <th>Omnibus:</th>       <td> 4.982</td> <th>  Durbin-Watson:     </th> <td>   1.890</td>\n",
              "</tr>\n",
              "<tr>\n",
              "  <th>Prob(Omnibus):</th> <td> 0.083</td> <th>  Jarque-Bera (JB):  </th> <td>   1.678</td>\n",
              "</tr>\n",
              "<tr>\n",
              "  <th>Skew:</th>          <td>-0.156</td> <th>  Prob(JB):          </th> <td>   0.432</td>\n",
              "</tr>\n",
              "<tr>\n",
              "  <th>Kurtosis:</th>      <td> 1.714</td> <th>  Cond. No.          </th> <td>    1.00</td>\n",
              "</tr>\n",
              "</table><br/><br/>Warnings:<br/>[1] Standard Errors assume that the covariance matrix of the errors is correctly specified."
            ],
            "text/plain": [
              "<class 'statsmodels.iolib.summary.Summary'>\n",
              "\"\"\"\n",
              "                                 OLS Regression Results                                \n",
              "=======================================================================================\n",
              "Dep. Variable:     Plant Height in cm   R-squared (uncentered):                   0.886\n",
              "Model:                            OLS   Adj. R-squared (uncentered):              0.881\n",
              "Method:                 Least Squares   F-statistic:                              171.2\n",
              "Date:                Mon, 31 May 2021   Prob (F-statistic):                    7.44e-12\n",
              "Time:                        11:16:16   Log-Likelihood:                         -108.50\n",
              "No. Observations:                  23   AIC:                                      219.0\n",
              "Df Residuals:                      22   BIC:                                      220.1\n",
              "Df Model:                           1                                                  \n",
              "Covariance Type:            nonrobust                                                  \n",
              "=============================================================================================\n",
              "                                coef    std err          t      P>|t|      [0.025      0.975]\n",
              "---------------------------------------------------------------------------------------------\n",
              "Seed yield per plant in g    12.2649      0.937     13.083      0.000      10.321      14.209\n",
              "==============================================================================\n",
              "Omnibus:                        4.982   Durbin-Watson:                   1.890\n",
              "Prob(Omnibus):                  0.083   Jarque-Bera (JB):                1.678\n",
              "Skew:                          -0.156   Prob(JB):                        0.432\n",
              "Kurtosis:                       1.714   Cond. No.                         1.00\n",
              "==============================================================================\n",
              "\n",
              "Warnings:\n",
              "[1] Standard Errors assume that the covariance matrix of the errors is correctly specified.\n",
              "\"\"\""
            ]
          },
          "metadata": {
            "tags": []
          },
          "execution_count": 10
        }
      ]
    }
  ]
}